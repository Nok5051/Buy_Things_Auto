{
 "cells": [
  {
   "cell_type": "code",
   "execution_count": 1,
   "metadata": {},
   "outputs": [],
   "source": [
    "from selenium import webdriver"
   ]
  },
  {
   "cell_type": "code",
   "execution_count": 47,
   "metadata": {},
   "outputs": [],
   "source": [
    "driver = webdriver.Chrome('../driver/chromedriver.exe')\n",
    "\n",
    "\n",
    "import time \n",
    "#사이트 접속 \n",
    "driver.get('https://polyteru-store.com/items-all')"
   ]
  },
  {
   "cell_type": "code",
   "execution_count": 48,
   "metadata": {},
   "outputs": [],
   "source": [
    "myid = \"nok5051\"\n",
    "pwd = \"angks1004!\"\n",
    "\n",
    "def first_login(driver):\n",
    "    log_path = driver.find_element_by_xpath(\"//*[@id='headerCustomer']\")\n",
    "    log_path.click()\n",
    "    \n",
    "    driver.find_element_by_id(\"loginUid\").send_keys(myid)\n",
    "    driver.find_element_by_id(\"loginPassword\").send_keys(pwd)\n",
    "    \n",
    "    time.sleep(1)\n",
    "    driver.find_element_by_xpath(\"//*[@id='login']/div[1]/div/div[2]/div[6]/button\").click()\n",
    "    "
   ]
  },
  {
   "cell_type": "code",
   "execution_count": 49,
   "metadata": {},
   "outputs": [],
   "source": [
    "first_login(driver)"
   ]
  },
  {
   "cell_type": "code",
   "execution_count": 53,
   "metadata": {},
   "outputs": [],
   "source": [
    "produck_name = driver.find_element_by_xpath(\"//*[@id='productListWrapper9163439']/div/div[2]/a/div[2]/div/div/div[1]\")\n",
    "\n",
    "\n",
    "if produck_name.text == \"liso denim - indigo (21fw)\":\n",
    "    produck_name.click()   "
   ]
  },
  {
   "cell_type": "code",
   "execution_count": 57,
   "metadata": {},
   "outputs": [
    {
     "data": {
      "text/plain": [
       "'품절된 상품입니다.'"
      ]
     },
     "execution_count": 57,
     "metadata": {},
     "output_type": "execute_result"
    }
   ],
   "source": [
    "sold_out = driver.find_element_by_xpath(\"//*[@id='shopProductCartErrorDiv']/span\")\n",
    "sold_out.text"
   ]
  },
  {
   "cell_type": "code",
   "execution_count": null,
   "metadata": {},
   "outputs": [],
   "source": [
    "while True:    \n",
    "    sold_out = driver.find_element_by_xpath(\"//*[@id='shopProductCartErrorDiv']/span\")\n",
    "    \n",
    "    try:\n",
    "        #사이즈 선택\n",
    "        driver.find_element_by_xpath(\"//*[@id='shopProductContentInfo']/div[4]/div[2]/div/span\").click\n",
    "        driver.find_element_by_xpath(\"//*[@id='shopProductContentInfo']/div[4]/div[2]/div/div/div[2]/div[3]\").click()\n",
    "\n",
    "        #구매 버튼 클릭\n",
    "        driver.find_element_by_xpath(\"//*[@id='btn_buyNow']\").click()\n",
    "        \n",
    "        break\n",
    "\n",
    "    except:\n",
    "        if sold_out.text == \"품절된 상품입니다.\":\n",
    "            #품절이면 새로고침 \n",
    "            driver.refresh()\n",
    "            time.sleep(1)"
   ]
  },
  {
   "cell_type": "code",
   "execution_count": null,
   "metadata": {},
   "outputs": [],
   "source": [
    "driver.find_element_by_xpath(\"/html/body/div[3]/div[1]/div[2]/div/div[2]/div[5]/div[2]/div[2]/label[2]\").click()\n",
    "driver.find_element_by_xpath(\"/html/body/div[3]/div[1]/div[2]/div/div[2]/div[6]/button\").click()\n",
    "\n",
    "# 결제 탭으로 전환\n"
   ]
  },
  {
   "cell_type": "code",
   "execution_count": null,
   "metadata": {},
   "outputs": [],
   "source": [
    "driver.find_element_by_xpath(\"//*[@id='inputAll']\").click()\n",
    "driver.find_element_by_xpath(\"//*[@id='cardCode23']\").click()\n",
    "driver.find_element_by_xpath(\"//*[@id='CardBtn']\").click()\n",
    "\n",
    "driver.find_element_by_xpath(\"//*[@id='payCode20']']\").click()\n",
    "\n",
    "\n",
    "driver.switch_to.window(driver.window_handles[-1])\n",
    "driver.find_element_by_xpath(\"//*[@id='btnPayment']\").click()"
   ]
  },
  {
   "cell_type": "code",
   "execution_count": null,
   "metadata": {},
   "outputs": [],
   "source": []
  }
 ],
 "metadata": {
  "kernelspec": {
   "display_name": "Python 3",
   "language": "python",
   "name": "python3"
  },
  "language_info": {
   "codemirror_mode": {
    "name": "ipython",
    "version": 3
   },
   "file_extension": ".py",
   "mimetype": "text/x-python",
   "name": "python",
   "nbconvert_exporter": "python",
   "pygments_lexer": "ipython3",
   "version": "3.7.4"
  }
 },
 "nbformat": 4,
 "nbformat_minor": 2
}
